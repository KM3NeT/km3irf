{
 "cells": [
  {
   "cell_type": "markdown",
   "id": "b5a6c346",
   "metadata": {},
   "source": [
    "## Use case № 1\n",
    "This notebook produces Effective Area (Aeff), Point Spread Function (PSF), Energy Dispersion (Edisp) files in .fits format from original KM3NeT simulation dst.root file"
   ]
  },
  {
   "cell_type": "code",
   "execution_count": 1,
   "id": "d0161542",
   "metadata": {},
   "outputs": [],
   "source": [
    "from km3irf import build_irf\n",
    "from astropy.io import fits"
   ]
  },
  {
   "cell_type": "code",
   "execution_count": 24,
   "id": "61ec4a4c-c571-42a2-b8c3-94782a04f045",
   "metadata": {},
   "outputs": [],
   "source": [
    "from os import path\n",
    "import numpy as np"
   ]
  },
  {
   "cell_type": "markdown",
   "id": "8e9103b3",
   "metadata": {},
   "source": [
    "Define a path to your local `dst.root` file:"
   ]
  },
  {
   "cell_type": "code",
   "execution_count": 3,
   "id": "cf981bdd-b06d-4ef9-bf71-420b9fd9d385",
   "metadata": {},
   "outputs": [],
   "source": [
    "folder = \"/run/media/msmirnov/DATA2/data_files/IRF_data_create\""
   ]
  },
  {
   "cell_type": "code",
   "execution_count": 4,
   "id": "6e600de1",
   "metadata": {},
   "outputs": [],
   "source": [
    "# data_path = \"/run/media/msmirnov/iron_2tb/IRF_data_create/mcv5.1.km3_numuCC.ALL.dst.bdt.root\"\n",
    "# data_path = \"/home/msmirnov/working_space/IRF_data_create/mcv5.1.km3_numuCC.ALL.dst.bdt.root\"\n",
    "# data_path = \"/home/msmirnov/working_space/some_data/files_cta_km3net/mcv5.1.km3_numuCC.ALL.dst.bdt.root\"\n",
    "# data_path = \"/run/media/msmirnov/DATA2/data_files/IRF_data_create/mcv5.1.km3_numuCC.ALL.dst.bdt.root\"\n",
    "data_path_nu = path.join(folder, \"mcv5.1.km3_numuCC.ALL.dst.bdt.root\")\n",
    "data_path_anu = path.join(folder, \"mcv5.1.km3_anumuCC.ALL.dst.bdt.root\")"
   ]
  },
  {
   "cell_type": "markdown",
   "id": "74c4b247",
   "metadata": {},
   "source": [
    "### Effective Area"
   ]
  },
  {
   "cell_type": "markdown",
   "id": "1cb41259",
   "metadata": {},
   "source": [
    "Create BuildAeff object:"
   ]
  },
  {
   "cell_type": "code",
   "execution_count": 5,
   "id": "028ffa10",
   "metadata": {},
   "outputs": [],
   "source": [
    "test_irf_nu = build_irf.DataContainer(data_path_nu)\n",
    "test_irf_anu = build_irf.DataContainer(data_path_anu)"
   ]
  },
  {
   "cell_type": "markdown",
   "id": "94593636",
   "metadata": {},
   "source": [
    "How many events in the file:"
   ]
  },
  {
   "cell_type": "code",
   "execution_count": 6,
   "id": "cc2a8ee0",
   "metadata": {},
   "outputs": [
    {
     "data": {
      "text/plain": [
       "802872"
      ]
     },
     "execution_count": 6,
     "metadata": {},
     "output_type": "execute_result"
    }
   ],
   "source": [
    "test_irf_nu.df.shape[0]"
   ]
  },
  {
   "cell_type": "code",
   "execution_count": 7,
   "id": "d54f4a1d-3519-47d7-bbbb-d3179b7d4453",
   "metadata": {},
   "outputs": [
    {
     "data": {
      "text/plain": [
       "844994"
      ]
     },
     "execution_count": 7,
     "metadata": {},
     "output_type": "execute_result"
    }
   ],
   "source": [
    "test_irf_anu.df.shape[0]"
   ]
  },
  {
   "cell_type": "code",
   "execution_count": 8,
   "id": "4215c2ce",
   "metadata": {},
   "outputs": [
    {
     "data": {
      "text/html": [
       "<div>\n",
       "<style scoped>\n",
       "    .dataframe tbody tr th:only-of-type {\n",
       "        vertical-align: middle;\n",
       "    }\n",
       "\n",
       "    .dataframe tbody tr th {\n",
       "        vertical-align: top;\n",
       "    }\n",
       "\n",
       "    .dataframe thead th {\n",
       "        text-align: right;\n",
       "    }\n",
       "</style>\n",
       "<table border=\"1\" class=\"dataframe\">\n",
       "  <thead>\n",
       "    <tr style=\"text-align: right;\">\n",
       "      <th></th>\n",
       "      <th>E</th>\n",
       "      <th>dir_x</th>\n",
       "      <th>dir_y</th>\n",
       "      <th>dir_z</th>\n",
       "      <th>E_mc</th>\n",
       "      <th>dir_x_mc</th>\n",
       "      <th>dir_y_mc</th>\n",
       "      <th>dir_z_mc</th>\n",
       "      <th>weight_w2</th>\n",
       "      <th>bdt0</th>\n",
       "      <th>bdt1</th>\n",
       "    </tr>\n",
       "  </thead>\n",
       "  <tbody>\n",
       "    <tr>\n",
       "      <th>0</th>\n",
       "      <td>349.621209</td>\n",
       "      <td>-0.670299</td>\n",
       "      <td>0.270036</td>\n",
       "      <td>0.691216</td>\n",
       "      <td>268.990</td>\n",
       "      <td>-0.670996</td>\n",
       "      <td>0.286741</td>\n",
       "      <td>0.683772</td>\n",
       "      <td>4.510000e+11</td>\n",
       "      <td>12.0</td>\n",
       "      <td>-2.000000</td>\n",
       "    </tr>\n",
       "    <tr>\n",
       "      <th>1</th>\n",
       "      <td>20.423436</td>\n",
       "      <td>0.327411</td>\n",
       "      <td>0.078130</td>\n",
       "      <td>-0.941646</td>\n",
       "      <td>178.710</td>\n",
       "      <td>0.327387</td>\n",
       "      <td>0.079789</td>\n",
       "      <td>-0.941515</td>\n",
       "      <td>1.182000e+11</td>\n",
       "      <td>1.0</td>\n",
       "      <td>-2.000000</td>\n",
       "    </tr>\n",
       "    <tr>\n",
       "      <th>2</th>\n",
       "      <td>184.966630</td>\n",
       "      <td>0.794867</td>\n",
       "      <td>0.354793</td>\n",
       "      <td>-0.492248</td>\n",
       "      <td>214.610</td>\n",
       "      <td>0.799260</td>\n",
       "      <td>0.353143</td>\n",
       "      <td>-0.486285</td>\n",
       "      <td>1.960000e+11</td>\n",
       "      <td>1.0</td>\n",
       "      <td>-2.000000</td>\n",
       "    </tr>\n",
       "    <tr>\n",
       "      <th>3</th>\n",
       "      <td>52.327015</td>\n",
       "      <td>0.455668</td>\n",
       "      <td>-0.632999</td>\n",
       "      <td>0.625843</td>\n",
       "      <td>291.347</td>\n",
       "      <td>0.432161</td>\n",
       "      <td>-0.625802</td>\n",
       "      <td>0.649314</td>\n",
       "      <td>5.622000e+11</td>\n",
       "      <td>11.0</td>\n",
       "      <td>0.998906</td>\n",
       "    </tr>\n",
       "  </tbody>\n",
       "</table>\n",
       "</div>"
      ],
      "text/plain": [
       "            E     dir_x     dir_y     dir_z     E_mc  dir_x_mc  dir_y_mc  \\\n",
       "0  349.621209 -0.670299  0.270036  0.691216  268.990 -0.670996  0.286741   \n",
       "1   20.423436  0.327411  0.078130 -0.941646  178.710  0.327387  0.079789   \n",
       "2  184.966630  0.794867  0.354793 -0.492248  214.610  0.799260  0.353143   \n",
       "3   52.327015  0.455668 -0.632999  0.625843  291.347  0.432161 -0.625802   \n",
       "\n",
       "   dir_z_mc     weight_w2  bdt0      bdt1  \n",
       "0  0.683772  4.510000e+11  12.0 -2.000000  \n",
       "1 -0.941515  1.182000e+11   1.0 -2.000000  \n",
       "2 -0.486285  1.960000e+11   1.0 -2.000000  \n",
       "3  0.649314  5.622000e+11  11.0  0.998906  "
      ]
     },
     "execution_count": 8,
     "metadata": {},
     "output_type": "execute_result"
    }
   ],
   "source": [
    "test_irf_nu.df.head(4)"
   ]
  },
  {
   "cell_type": "markdown",
   "id": "624bee2f",
   "metadata": {},
   "source": [
    "Apply user defined cuts:"
   ]
  },
  {
   "cell_type": "code",
   "execution_count": 10,
   "id": "5f0a15ed",
   "metadata": {},
   "outputs": [
    {
     "data": {
      "text/plain": [
       "331325"
      ]
     },
     "execution_count": 10,
     "metadata": {},
     "output_type": "execute_result"
    }
   ],
   "source": [
    "# for neutrinos\n",
    "test_irf_nu.apply_cuts()\n",
    "test_irf_nu.df.shape[0]"
   ]
  },
  {
   "cell_type": "code",
   "execution_count": 11,
   "id": "47794f01-dcd4-4049-8cab-43178a5a9811",
   "metadata": {},
   "outputs": [
    {
     "data": {
      "text/plain": [
       "362186"
      ]
     },
     "execution_count": 11,
     "metadata": {},
     "output_type": "execute_result"
    }
   ],
   "source": [
    "# for antineutrinos\n",
    "test_irf_anu.apply_cuts()\n",
    "test_irf_anu.df.shape[0]"
   ]
  },
  {
   "cell_type": "markdown",
   "id": "778b0869",
   "metadata": {},
   "source": [
    "Apply re-weighting procedure"
   ]
  },
  {
   "cell_type": "code",
   "execution_count": 12,
   "id": "de4d9d49",
   "metadata": {},
   "outputs": [
    {
     "data": {
      "text/plain": [
       "dict_values([array([8.43265542e+00, 7.72364843e+00, 7.77098987e+00, ...,\n",
       "       1.99530627e-05, 2.18194734e-05, 1.78086831e-05])])"
      ]
     },
     "execution_count": 12,
     "metadata": {},
     "output_type": "execute_result"
    }
   ],
   "source": [
    "weighted_dict = test_irf_nu.weight_calc(tag=\"nu\")\n",
    "weighted_dict.values()"
   ]
  },
  {
   "cell_type": "code",
   "execution_count": 16,
   "id": "e37a6591-4e1f-4cc1-b282-b9b3aed9e90d",
   "metadata": {},
   "outputs": [],
   "source": [
    "# add anu weights\n",
    "weighted_dict.update(test_irf_anu.weight_calc(tag=\"nubar\"))"
   ]
  },
  {
   "cell_type": "code",
   "execution_count": 17,
   "id": "effdd415-2a5a-42f8-a099-3af2e69587c9",
   "metadata": {},
   "outputs": [
    {
     "data": {
      "text/plain": [
       "dict_keys(['nu', 'nubar'])"
      ]
     },
     "execution_count": 17,
     "metadata": {},
     "output_type": "execute_result"
    }
   ],
   "source": [
    "weighted_dict.keys()"
   ]
  },
  {
   "cell_type": "code",
   "execution_count": 27,
   "id": "2669b76b-a730-4133-afb4-f4e3e7fba533",
   "metadata": {},
   "outputs": [],
   "source": [
    "weights_all = np.concatenate([weighted_dict['nu'], weighted_dict['nubar']])"
   ]
  },
  {
   "cell_type": "code",
   "execution_count": 19,
   "id": "398c5a8a-c761-455e-9a32-30ac60490f24",
   "metadata": {},
   "outputs": [],
   "source": [
    "# merge two flavors\n",
    "test_irf_nu.merge_flavors(df_flavor=test_irf_anu.df)"
   ]
  },
  {
   "cell_type": "markdown",
   "id": "82fc631f",
   "metadata": {},
   "source": [
    "Build .fits for effective area, it needs to specify the input pandas data frame."
   ]
  },
  {
   "cell_type": "code",
   "execution_count": 20,
   "id": "94bb431d",
   "metadata": {},
   "outputs": [
    {
     "name": "stdout",
     "output_type": "stream",
     "text": [
      "file aeff_new.fits is written successfully!\n"
     ]
    }
   ],
   "source": [
    "test_irf_nu.build_aeff(output=\"aeff_new.fits\")"
   ]
  },
  {
   "cell_type": "markdown",
   "id": "7d2cc464",
   "metadata": {},
   "source": [
    "Check the output file with `gammapy`"
   ]
  },
  {
   "cell_type": "code",
   "execution_count": 21,
   "id": "c822b5fa",
   "metadata": {},
   "outputs": [],
   "source": [
    "# install gammapy if it needs\n",
    "#!pip install gammapy\n",
    "from km3irf import utils"
   ]
  },
  {
   "cell_type": "code",
   "execution_count": 22,
   "id": "b5929553",
   "metadata": {},
   "outputs": [
    {
     "data": {
      "image/png": "[encoded data removed]",
      "text/plain": [
       "<Figure size 1080x288 with 4 Axes>"
      ]
     },
     "metadata": {
      "needs_background": "light"
     },
     "output_type": "display_data"
    }
   ],
   "source": [
    "# Read effective area IRFs\n",
    "aeff = utils.DrawAeff(aeff_path=\"./aeff_new.fits\")\n",
    "# draw\n",
    "aeff.peek()"
   ]
  },
  {
   "cell_type": "markdown",
   "id": "3dd7a3e5",
   "metadata": {},
   "source": [
    "### Point Spread Function"
   ]
  },
  {
   "cell_type": "code",
   "execution_count": null,
   "id": "75d7bcab",
   "metadata": {},
   "outputs": [],
   "source": [
    "test_irf_nu.build_psf()"
   ]
  },
  {
   "cell_type": "markdown",
   "id": "ccd318cb",
   "metadata": {},
   "source": [
    "Check the output file `psf.fits` with `gammapy`:"
   ]
  },
  {
   "cell_type": "code",
   "execution_count": null,
   "id": "b259618d",
   "metadata": {},
   "outputs": [],
   "source": [
    "from gammapy.irf import PSF3D"
   ]
  },
  {
   "cell_type": "code",
   "execution_count": null,
   "id": "9cf2ded6",
   "metadata": {},
   "outputs": [],
   "source": [
    "psf = PSF3D.read(\"psf.fits\", hdu=\"PSF_2D_TABLE\")\n",
    "print(psf)"
   ]
  },
  {
   "cell_type": "code",
   "execution_count": null,
   "id": "9d7ca157",
   "metadata": {},
   "outputs": [],
   "source": [
    "psf.peek()"
   ]
  },
  {
   "cell_type": "markdown",
   "id": "22070247",
   "metadata": {},
   "source": [
    "### Energy dispertion"
   ]
  },
  {
   "cell_type": "code",
   "execution_count": null,
   "id": "c232713a",
   "metadata": {},
   "outputs": [],
   "source": [
    "test_irf.build_edisp(norm=True, smooth=False, smooth_norm=False)"
   ]
  },
  {
   "cell_type": "markdown",
   "id": "5dc638f0",
   "metadata": {},
   "source": [
    "Check the output file `edisp.fits` with `gammapy`:"
   ]
  },
  {
   "cell_type": "code",
   "execution_count": null,
   "id": "9575dbaf",
   "metadata": {},
   "outputs": [],
   "source": [
    "from gammapy.irf import EnergyDispersion2D"
   ]
  },
  {
   "cell_type": "code",
   "execution_count": null,
   "id": "c9062216",
   "metadata": {},
   "outputs": [],
   "source": [
    "edisp = EnergyDispersion2D.read(\"edisp.fits\", hdu=\"EDISP_2D\")\n",
    "print(edisp)"
   ]
  },
  {
   "cell_type": "code",
   "execution_count": null,
   "id": "1273a865",
   "metadata": {},
   "outputs": [],
   "source": [
    "edisp.peek()"
   ]
  },
  {
   "cell_type": "markdown",
   "id": "e2788c9c",
   "metadata": {},
   "source": [
    "Write all created fits files to the one combined IRF file."
   ]
  },
  {
   "cell_type": "code",
   "execution_count": null,
   "id": "f4c20f28",
   "metadata": {},
   "outputs": [],
   "source": [
    "from km3irf.utils import merge_fits"
   ]
  },
  {
   "cell_type": "markdown",
   "id": "2aaf4cb5",
   "metadata": {},
   "source": [
    "background is takken from `km3irf` data folder"
   ]
  },
  {
   "cell_type": "code",
   "execution_count": null,
   "id": "cf013f17",
   "metadata": {},
   "outputs": [],
   "source": [
    "merge_fits(\n",
    "    aeff_fits=\"aeff.fits\",\n",
    "    psf_fits=\"psf.fits\",\n",
    "    edisp_fits=\"edisp.fits\",\n",
    "    output_path=\".\",\n",
    "    output_file=\"combined_IRF.fits\",\n",
    ")"
   ]
  }
 ],
 "metadata": {
  "kernelspec": {
   "display_name": "gammapy-0.20",
   "language": "python",
   "name": "gammapy-0.20"
  },
  "language_info": {
   "codemirror_mode": {
    "name": "ipython",
    "version": 3
   },
   "file_extension": ".py",
   "mimetype": "text/x-python",
   "name": "python",
   "nbconvert_exporter": "python",
   "pygments_lexer": "ipython3",
   "version": "3.10.6"
  },
  "vscode": {
   "interpreter": {
    "hash": "22e305ae2dca33056386fcb36f4e9be3ece6464734477db5756f1d7f9b71f057"
   }
  }
 },
 "nbformat": 4,
 "nbformat_minor": 5
}
