{
 "cells": [
  {
   "cell_type": "markdown",
   "id": "b5a6c346",
   "metadata": {},
   "source": [
    "## Use case № 1\n",
    "This notebook produces Effective Area (Aeff), Point Spread Function (PSF), Energy Dispersion (Edisp) files in .fits format from original KM3NeT simulation dst.root file"
   ]
  },
  {
   "cell_type": "code",
   "execution_count": null,
   "id": "d0161542",
   "metadata": {},
   "outputs": [],
   "source": [
    "from km3irf import build_irf\n",
    "from astropy.io import fits"
   ]
  },
  {
   "cell_type": "code",
   "execution_count": null,
   "id": "61ec4a4c-c571-42a2-b8c3-94782a04f045",
   "metadata": {},
   "outputs": [],
   "source": [
    "from os import path"
   ]
  },
  {
   "cell_type": "markdown",
   "id": "8e9103b3",
   "metadata": {},
   "source": [
    "Define a path to your local `dst.root` file:"
   ]
  },
  {
   "cell_type": "code",
   "execution_count": null,
   "id": "cf981bdd-b06d-4ef9-bf71-420b9fd9d385",
   "metadata": {},
   "outputs": [],
   "source": [
    "folder = \"/media/msmirnov/Data/working_space/data_files/files_cta_km3net\""
   ]
  },
  {
   "cell_type": "code",
   "execution_count": null,
   "id": "6e600de1",
   "metadata": {},
   "outputs": [],
   "source": [
    "# data_path = \"/run/media/msmirnov/iron_2tb/IRF_data_create/mcv5.1.km3_numuCC.ALL.dst.bdt.root\"\n",
    "# data_path = \"/home/msmirnov/working_space/IRF_data_create/mcv5.1.km3_numuCC.ALL.dst.bdt.root\"\n",
    "# data_path = \"/home/msmirnov/working_space/some_data/files_cta_km3net/mcv5.1.km3_numuCC.ALL.dst.bdt.root\"\n",
    "# data_path = \"/run/media/msmirnov/DATA2/data_files/IRF_data_create/mcv5.1.km3_numuCC.ALL.dst.bdt.root\"\n",
    "data_path = path.join(folder, \"mcv5.1.km3_numuCC.ALL.dst.bdt.root\")"
   ]
  },
  {
   "cell_type": "markdown",
   "id": "74c4b247",
   "metadata": {},
   "source": [
    "### Effective Area"
   ]
  },
  {
   "cell_type": "markdown",
   "id": "1cb41259",
   "metadata": {},
   "source": [
    "Create BuildAeff object:"
   ]
  },
  {
   "cell_type": "code",
   "execution_count": null,
   "id": "028ffa10",
   "metadata": {},
   "outputs": [],
   "source": [
    "test_irf = build_irf.DataContainer(data_path)"
   ]
  },
  {
   "cell_type": "markdown",
   "id": "94593636",
   "metadata": {},
   "source": [
    "How many events in the file:"
   ]
  },
  {
   "cell_type": "code",
   "execution_count": null,
   "id": "cc2a8ee0",
   "metadata": {},
   "outputs": [],
   "source": [
    "test_irf.df.shape[0]"
   ]
  },
  {
   "cell_type": "code",
   "execution_count": null,
   "id": "4215c2ce",
   "metadata": {},
   "outputs": [],
   "source": [
    "test_irf.df.head(4)"
   ]
  },
  {
   "cell_type": "markdown",
   "id": "624bee2f",
   "metadata": {},
   "source": [
    "Apply user defined cuts:"
   ]
  },
  {
   "cell_type": "code",
   "execution_count": null,
   "id": "5f0a15ed",
   "metadata": {},
   "outputs": [],
   "source": [
    "test_irf.apply_cuts()\n",
    "test_irf.df.shape[0]"
   ]
  },
  {
   "cell_type": "markdown",
   "id": "778b0869",
   "metadata": {},
   "source": [
    "Apply re-weighting procedure"
   ]
  },
  {
   "cell_type": "code",
   "execution_count": null,
   "id": "de4d9d49",
   "metadata": {},
   "outputs": [],
   "source": [
    "weighted_dict = test_irf.weight_calc(tag=\"nu\")\n",
    "weighted_dict.values()"
   ]
  },
  {
   "cell_type": "markdown",
   "id": "82fc631f",
   "metadata": {},
   "source": [
    "Build .fits for effective area, it needs to specify the input pandas data frame."
   ]
  },
  {
   "cell_type": "code",
   "execution_count": null,
   "id": "94bb431d",
   "metadata": {},
   "outputs": [],
   "source": [
    "test_irf.build_aeff()"
   ]
  },
  {
   "cell_type": "markdown",
   "id": "7d2cc464",
   "metadata": {},
   "source": [
    "Check the output file with `gammapy`"
   ]
  },
  {
   "cell_type": "code",
   "execution_count": null,
   "id": "c822b5fa",
   "metadata": {},
   "outputs": [],
   "source": [
    "# install gammapy if it needs\n",
    "#!pip install gammapy\n",
    "from gammapy.irf import EffectiveAreaTable2D"
   ]
  },
  {
   "cell_type": "code",
   "execution_count": null,
   "id": "b5929553",
   "metadata": {},
   "outputs": [],
   "source": [
    "# Read effective area IRFs\n",
    "aeff = EffectiveAreaTable2D.read(\"aeff.fits\", hdu=\"EFFECTIVE AREA\")\n",
    "print(aeff)"
   ]
  },
  {
   "cell_type": "code",
   "execution_count": null,
   "id": "1fb95bfc",
   "metadata": {},
   "outputs": [],
   "source": [
    "aeff.peek()"
   ]
  },
  {
   "cell_type": "markdown",
   "id": "3dd7a3e5",
   "metadata": {},
   "source": [
    "### Point Spread Function"
   ]
  },
  {
   "cell_type": "code",
   "execution_count": null,
   "id": "75d7bcab",
   "metadata": {},
   "outputs": [],
   "source": [
    "test_irf.build_psf()"
   ]
  },
  {
   "cell_type": "markdown",
   "id": "ccd318cb",
   "metadata": {},
   "source": [
    "Check the output file `psf.fits` with `gammapy`:"
   ]
  },
  {
   "cell_type": "code",
   "execution_count": null,
   "id": "b259618d",
   "metadata": {},
   "outputs": [],
   "source": [
    "from gammapy.irf import PSF3D"
   ]
  },
  {
   "cell_type": "code",
   "execution_count": null,
   "id": "9cf2ded6",
   "metadata": {},
   "outputs": [],
   "source": [
    "psf = PSF3D.read(\"psf.fits\", hdu=\"PSF_2D_TABLE\")\n",
    "print(psf)"
   ]
  },
  {
   "cell_type": "code",
   "execution_count": null,
   "id": "9d7ca157",
   "metadata": {},
   "outputs": [],
   "source": [
    "psf.peek()"
   ]
  },
  {
   "cell_type": "markdown",
   "id": "22070247",
   "metadata": {},
   "source": [
    "### Energy dispertion"
   ]
  },
  {
   "cell_type": "code",
   "execution_count": null,
   "id": "c232713a",
   "metadata": {},
   "outputs": [],
   "source": [
    "test_irf.build_edisp(norm=True, smooth=False, smooth_norm=False)"
   ]
  },
  {
   "cell_type": "markdown",
   "id": "5dc638f0",
   "metadata": {},
   "source": [
    "Check the output file `edisp.fits` with `gammapy`:"
   ]
  },
  {
   "cell_type": "code",
   "execution_count": null,
   "id": "9575dbaf",
   "metadata": {},
   "outputs": [],
   "source": [
    "from gammapy.irf import EnergyDispersion2D"
   ]
  },
  {
   "cell_type": "code",
   "execution_count": null,
   "id": "c9062216",
   "metadata": {},
   "outputs": [],
   "source": [
    "edisp = EnergyDispersion2D.read(\"edisp.fits\", hdu=\"EDISP_2D\")\n",
    "print(edisp)"
   ]
  },
  {
   "cell_type": "code",
   "execution_count": null,
   "id": "1273a865",
   "metadata": {},
   "outputs": [],
   "source": [
    "edisp.peek()"
   ]
  },
  {
   "cell_type": "markdown",
   "id": "e2788c9c",
   "metadata": {},
   "source": [
    "Write all created fits files to the one combined IRF file."
   ]
  },
  {
   "cell_type": "code",
   "execution_count": null,
   "id": "f4c20f28",
   "metadata": {},
   "outputs": [],
   "source": [
    "from km3irf.utils import merge_fits"
   ]
  },
  {
   "cell_type": "markdown",
   "id": "2aaf4cb5",
   "metadata": {},
   "source": [
    "background is takken from `km3irf` data folder"
   ]
  },
  {
   "cell_type": "code",
   "execution_count": null,
   "id": "cf013f17",
   "metadata": {},
   "outputs": [],
   "source": [
    "merge_fits(\n",
    "    aeff_fits=\"aeff.fits\",\n",
    "    psf_fits=\"psf.fits\",\n",
    "    edisp_fits=\"edisp.fits\",\n",
    "    output_path=\".\",\n",
    "    output_file=\"combined_IRF.fits\",\n",
    ")"
   ]
  }
 ],
 "metadata": {
  "kernelspec": {
   "display_name": "gammapy-1.01",
   "language": "python",
   "name": "gammapy-1.01"
  },
  "language_info": {
   "codemirror_mode": {
    "name": "ipython",
    "version": 3
   },
   "file_extension": ".py",
   "mimetype": "text/x-python",
   "name": "python",
   "nbconvert_exporter": "python",
   "pygments_lexer": "ipython3",
   "version": "3.9.16"
  },
  "vscode": {
   "interpreter": {
    "hash": "22e305ae2dca33056386fcb36f4e9be3ece6464734477db5756f1d7f9b71f057"
   }
  }
 },
 "nbformat": 4,
 "nbformat_minor": 5
}
