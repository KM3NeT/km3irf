{
 "cells": [
  {
   "cell_type": "markdown",
   "id": "2421db8e-3a39-450a-a682-6dc48381d03a",
   "metadata": {},
   "source": [
    "This notebook completely reproduces `Aeff` production from CTA-KM3NeT combined analysis  using somefuctioanlity from  `km3irf` "
   ]
  },
  {
   "cell_type": "code",
   "execution_count": 1,
   "id": "e50aa7ae-d253-496b-9bb6-1bbc9b1a85c1",
   "metadata": {},
   "outputs": [],
   "source": [
    "import numpy as np\n",
    "\n",
    "import matplotlib.pyplot as plt\n",
    "from matplotlib.colors import LogNorm\n",
    "\n",
    "import km3io\n",
    "\n",
    "from astropy.io import fits\n",
    "import astropy.units as u\n",
    "\n",
    "from gammapy.irf import EnergyDispersion2D\n",
    "\n",
    "from scipy.stats import binned_statistic\n",
    "from scipy.ndimage import gaussian_filter1d, gaussian_filter\n",
    "\n",
    "# from scipy.ndimage.filters import gaussian_filter1d, gaussian_filter\n",
    "\n",
    "import pandas as pd\n",
    "import uproot\n",
    "from collections import defaultdict\n",
    "\n",
    "import sys\n",
    "\n",
    "sys.path.append(\"./ppflux\")\n",
    "sys.path.append(\"../\")\n",
    "from km3irf.irf_tools import calc_theta, aeff_2D, psf_3D, edisp_3D\n",
    "\n",
    "# import flux as km3_flux\n",
    "# import plot_utils"
   ]
  },
  {
   "cell_type": "code",
   "execution_count": 2,
   "id": "40902e50-dce4-43ff-aaa1-d82381a5161a",
   "metadata": {},
   "outputs": [],
   "source": [
    "# normal data with bdt\n",
    "filename_nu = \"../../data_files/files_cta_km3net/mcv5.1.km3_numuCC.ALL.dst.bdt.root\"\n",
    "filename_nubar = \"../../data_files/files_cta_km3net/mcv5.1.km3_anumuCC.ALL.dst.bdt.root\"\n",
    "filename_mu10 = (\n",
    "    \"../../data_files/files_cta_km3net/mcv5.2.mupage_10T.sirene_mupage.ALL.bdt.root\"\n",
    ")\n",
    "filename_mu50 = (\n",
    "    \"../../data_files/files_cta_km3net/mcv5.2.mupage_50T.sirene_mupage.ALL.bdt.root\"\n",
    ")"
   ]
  },
  {
   "cell_type": "code",
   "execution_count": 3,
   "id": "5710c3bd-07e2-4af9-885f-27429647da53",
   "metadata": {},
   "outputs": [],
   "source": [
    "# reading with km3io\n",
    "f_nu_km3io = km3io.OfflineReader(filename_nu)\n",
    "f_nubar_km3io = km3io.OfflineReader(filename_nubar)"
   ]
  },
  {
   "cell_type": "code",
   "execution_count": 4,
   "id": "ae1329b3-2d56-4336-b83b-21880f90eefd",
   "metadata": {},
   "outputs": [
    {
     "name": "stdout",
     "output_type": "stream",
     "text": [
      "nu:\n",
      "100000.0\n",
      "genvol(zmin=0, zmax=1027, r=888.4, volume=2649000000.0, numberOfEvents=20000000.0)\n",
      "spectrum(alpha=-1.4)\n",
      "\n",
      "nubar:\n",
      "100000.0\n",
      "genvol(zmin=0, zmax=1027, r=888.4, volume=2649000000.0, numberOfEvents=20000000.0)\n",
      "spectrum(alpha=-1.4)\n"
     ]
    }
   ],
   "source": [
    "# Print header info\n",
    "print(\"nu:\")\n",
    "print(f_nu_km3io.header.ngen)\n",
    "print(f_nu_km3io.header.genvol)\n",
    "print(f_nu_km3io.header.spectrum)\n",
    "print(\"\\nnubar:\")\n",
    "print(f_nubar_km3io.header.ngen)\n",
    "print(f_nubar_km3io.header.genvol)\n",
    "print(f_nubar_km3io.header.spectrum)"
   ]
  },
  {
   "cell_type": "code",
   "execution_count": 5,
   "id": "2dd489e2-2a97-42c7-ac61-357aa60d0435",
   "metadata": {},
   "outputs": [
    {
     "name": "stdout",
     "output_type": "stream",
     "text": [
      "Wall time: 1.82 s\n"
     ]
    }
   ],
   "source": [
    "%%time\n",
    "# Access data arrays\n",
    "data_km3io = dict()\n",
    "\n",
    "for l, f in zip([\"nu\", \"nubar\"], [f_nu_km3io, f_nubar_km3io]):\n",
    "    data_km3io[l] = dict()\n",
    "\n",
    "    data_km3io[l][\"E\"] = f.tracks.E.to_numpy()[:, 0]\n",
    "    data_km3io[l][\"dir_x\"] = f.tracks.dir_x.to_numpy()[:, 0]\n",
    "    data_km3io[l][\"dir_y\"] = f.tracks.dir_y.to_numpy()[:, 0]\n",
    "    data_km3io[l][\"dir_z\"] = f.tracks.dir_z.to_numpy()[:, 0]\n",
    "\n",
    "    data_km3io[l][\"E_mc\"] = f.mc_tracks.E.to_numpy()[:, 0]\n",
    "    data_km3io[l][\"dir_x_mc\"] = f.mc_tracks.dir_x.to_numpy()[:, 0]\n",
    "    data_km3io[l][\"dir_y_mc\"] = f.mc_tracks.dir_y.to_numpy()[:, 0]\n",
    "    data_km3io[l][\"dir_z_mc\"] = f.mc_tracks.dir_z.to_numpy()[:, 0]\n",
    "\n",
    "    data_km3io[l][\"weight_w2\"] = f.w.to_numpy()[:, 1]"
   ]
  },
  {
   "cell_type": "markdown",
   "id": "f5bdd4b1-146f-4e1a-a408-06a58f37c1cf",
   "metadata": {},
   "source": [
    "Read files with uproot"
   ]
  },
  {
   "cell_type": "code",
   "execution_count": 6,
   "id": "ad9dff63-21c3-42bd-90a9-bae38235f476",
   "metadata": {},
   "outputs": [],
   "source": [
    "f_nu_uproot = uproot.open(filename_nu)\n",
    "f_nubar_uproot = uproot.open(filename_nubar)"
   ]
  },
  {
   "cell_type": "code",
   "execution_count": 7,
   "id": "712991e5-d180-4cf1-9019-5b9b5ebfb8c7",
   "metadata": {},
   "outputs": [
    {
     "name": "stdout",
     "output_type": "stream",
     "text": [
      "Wall time: 2.19 s\n"
     ]
    }
   ],
   "source": [
    "%%time\n",
    "# Retrieve data\n",
    "data_uproot = dict()\n",
    "\n",
    "for l, f in zip([\"nu\", \"nubar\"], [f_nu_uproot, f_nubar_uproot]):\n",
    "    # Retrieve trees\n",
    "    E = f[\"E;1\"]\n",
    "    T = f[\"T;1\"]\n",
    "\n",
    "    # Access data arrays\n",
    "    data_uproot[l] = dict()\n",
    "\n",
    "    data_uproot[l][\"E\"] = E[\"Evt/trks/trks.E\"].array().to_numpy()[:, 0]\n",
    "    data_uproot[l][\"dir_x\"] = E[\"Evt/trks/trks.dir.x\"].array().to_numpy()[:, 0]\n",
    "    data_uproot[l][\"dir_y\"] = E[\"Evt/trks/trks.dir.y\"].array().to_numpy()[:, 0]\n",
    "    data_uproot[l][\"dir_z\"] = E[\"Evt/trks/trks.dir.z\"].array().to_numpy()[:, 0]\n",
    "\n",
    "    data_uproot[l][\"E_mc\"] = E[\"Evt/mc_trks/mc_trks.E\"].array().to_numpy()[:, 0]\n",
    "    data_uproot[l][\"dir_x_mc\"] = E[\"Evt/mc_trks/mc_trks.dir.x\"].array().to_numpy()[:, 0]\n",
    "    data_uproot[l][\"dir_y_mc\"] = E[\"Evt/mc_trks/mc_trks.dir.y\"].array().to_numpy()[:, 0]\n",
    "    data_uproot[l][\"dir_z_mc\"] = E[\"Evt/mc_trks/mc_trks.dir.z\"].array().to_numpy()[:, 0]\n",
    "\n",
    "    data_uproot[l][\"weight_w2\"] = E[\"Evt/w\"].array().to_numpy()[:, 1]\n",
    "    bdt = T[\"bdt\"].array().to_numpy()\n",
    "    data_uproot[l][\"bdt0\"] = bdt[:, 0]\n",
    "    data_uproot[l][\"bdt1\"] = bdt[:, 1]"
   ]
  },
  {
   "cell_type": "code",
   "execution_count": 8,
   "id": "bd44eafd-4d3c-4d3f-b82b-4498db4accca",
   "metadata": {},
   "outputs": [
    {
     "name": "stdout",
     "output_type": "stream",
     "text": [
      "nu\n",
      "E True\n",
      "dir_x True\n",
      "dir_y True\n",
      "dir_z True\n",
      "E_mc True\n",
      "dir_x_mc True\n",
      "dir_y_mc True\n",
      "dir_z_mc True\n",
      "weight_w2 True\n",
      "\n",
      "nubar\n",
      "E True\n",
      "dir_x True\n",
      "dir_y True\n",
      "dir_z True\n",
      "E_mc True\n",
      "dir_x_mc True\n",
      "dir_y_mc True\n",
      "dir_z_mc True\n",
      "weight_w2 True\n",
      "\n"
     ]
    }
   ],
   "source": [
    "# Make sure we have read the same arrays with km3io and uproot\n",
    "for l in [\"nu\", \"nubar\"]:\n",
    "    print(l)\n",
    "    for k in data_km3io[l].keys():\n",
    "        print(k, np.all(data_km3io[l][k] == data_uproot[l][k]))\n",
    "    print(\"\")"
   ]
  },
  {
   "cell_type": "code",
   "execution_count": 9,
   "id": "9ceb863a-9daa-4e29-961c-2e5ed93f4601",
   "metadata": {},
   "outputs": [],
   "source": [
    "# Create pandas DataFrames\n",
    "df_nu = pd.DataFrame(data_uproot[\"nu\"])\n",
    "df_nubar = pd.DataFrame(data_uproot[\"nubar\"])"
   ]
  },
  {
   "cell_type": "markdown",
   "id": "9cb7ccb0-7de3-4dc3-a8cf-d51e38c0209b",
   "metadata": {},
   "source": [
    "Selection cuts"
   ]
  },
  {
   "cell_type": "code",
   "execution_count": 11,
   "id": "d2ab775b-e4be-4fff-a05c-711037fa0611",
   "metadata": {},
   "outputs": [],
   "source": [
    "# Implement selection cuts\n",
    "def get_q_mask(bdt0, bdt1, dir_z):\n",
    "    \"\"\"\n",
    "    bdt0: to determine groups to which BDT cut should be applied (upgoing/horizontal/downgoing).\n",
    "    bdt1: BDT score in the range [-1, 1]. Closer to 1 means more signal-like.\n",
    "    dir_z: is the reconstructed z-direction of the event\n",
    "    \"\"\"\n",
    "    mask_down = bdt0 >= 11  # remove downgoing events\n",
    "    clear_signal = bdt0 == 12  # very clear signal\n",
    "    loose_up = (np.arccos(dir_z) * 180 / np.pi < 80) & (\n",
    "        bdt1 > 0.0\n",
    "    )  # apply loose cut on upgoing events\n",
    "    strong_horizontal = (np.arccos(dir_z) * 180 / np.pi > 80) & (\n",
    "        bdt1 > 0.7\n",
    "    )  # apply strong cut on horizontal events\n",
    "    return mask_down & (clear_signal | loose_up | strong_horizontal)"
   ]
  },
  {
   "cell_type": "code",
   "execution_count": 12,
   "id": "a75efa1e-2ca0-42c0-b800-c6290b69ca11",
   "metadata": {},
   "outputs": [],
   "source": [
    "# Apply the cuts\n",
    "\n",
    "# nu\n",
    "q_mask_nu = get_q_mask(df_nu.bdt0, df_nu.bdt1, df_nu.dir_z)\n",
    "df_nu_q = df_nu[q_mask_nu].copy()\n",
    "\n",
    "# nubar\n",
    "q_mask_nubar = get_q_mask(df_nubar.bdt0, df_nubar.bdt1, df_nubar.dir_z)\n",
    "df_nubar_q = df_nubar[q_mask_nubar].copy()"
   ]
  },
  {
   "cell_type": "code",
   "execution_count": 13,
   "id": "a43a0016-4dd1-468e-82b6-7fc98f87bb2c",
   "metadata": {},
   "outputs": [
    {
     "name": "stdout",
     "output_type": "stream",
     "text": [
      "nu: 331325 events survive cuts (41.27%)\n",
      "nubar: 362186 events survive cuts (42.86%)\n"
     ]
    }
   ],
   "source": [
    "print(\n",
    "    \"nu: {:d} events survive cuts ({:.4g}%)\".format(\n",
    "        len(df_nu_q), len(df_nu_q) / len(df_nu) * 100\n",
    "    )\n",
    ")\n",
    "print(\n",
    "    \"nubar: {:d} events survive cuts ({:.4g}%)\".format(\n",
    "        len(df_nubar_q), len(df_nubar_q) / len(df_nubar) * 100\n",
    "    )\n",
    ")"
   ]
  },
  {
   "cell_type": "code",
   "execution_count": 14,
   "id": "9c02ca7d-f370-4c70-bc9c-4bfee1f0199f",
   "metadata": {},
   "outputs": [],
   "source": [
    "# calculate the normalized weight factor for each event\n",
    "weight_factor = -2.5  # Spectral index to re-weight to\n",
    "\n",
    "weights = dict()\n",
    "for l, df, f in zip(\n",
    "    [\"nu\", \"nubar\"], [df_nu_q, df_nubar_q], [f_nu_km3io, f_nubar_km3io]\n",
    "):\n",
    "    weights[l] = (df.E_mc ** (weight_factor - f.header.spectrum.alpha)).to_numpy()\n",
    "    weights[l] *= len(df) / weights[l].sum()"
   ]
  },
  {
   "cell_type": "code",
   "execution_count": 15,
   "id": "929017af-d24f-41e2-9dd2-a8bd55f53efc",
   "metadata": {},
   "outputs": [],
   "source": [
    "# Create DataFrames with neutrinos and anti-neutrinos\n",
    "df_nu_all = pd.concat([df_nu, df_nubar], ignore_index=True)\n",
    "df_nu_all_q = pd.concat([df_nu_q, df_nubar_q], ignore_index=True)\n",
    "\n",
    "# Also create a concatenated array for the weights\n",
    "weights_all = np.concatenate([weights[\"nu\"], weights[\"nubar\"]])"
   ]
  },
  {
   "cell_type": "code",
   "execution_count": 16,
   "id": "a357a207-04c5-494b-8f74-8f3230ae2866",
   "metadata": {},
   "outputs": [],
   "source": [
    "# Define bins for IRFs\n",
    "cos_bins_fine = np.linspace(1, -1, 13)\n",
    "t_bins_fine = np.arccos(cos_bins_fine)\n",
    "e_bins_fine = np.logspace(2, 8, 49)\n",
    "\n",
    "cos_bins_coarse = np.linspace(1, -1, 7)\n",
    "t_bins_coarse = np.arccos(cos_bins_coarse)\n",
    "e_bins_coarse = np.logspace(2, 8, 25)\n",
    "\n",
    "migra_bins = np.logspace(-5, 2, 57)\n",
    "rad_bins = np.concatenate(\n",
    "    (\n",
    "        np.linspace(0, 1, 21),\n",
    "        np.linspace(1, 5, 41)[1:],\n",
    "        np.linspace(5, 30, 51)[1:],\n",
    "        [180.0],\n",
    "    )\n",
    ")"
   ]
  },
  {
   "cell_type": "code",
   "execution_count": 17,
   "id": "80076865-6c41-44f8-b67e-ed2628ec6d6a",
   "metadata": {},
   "outputs": [],
   "source": [
    "# Bin centers\n",
    "e_binc_fine = np.sqrt(e_bins_fine[:-1] * e_bins_fine[1:])\n",
    "e_binc_coarse = np.sqrt(e_bins_coarse[:-1] * e_bins_coarse[1:])\n",
    "\n",
    "t_binc_fine = np.arccos(0.5 * (cos_bins_fine[:-1] + cos_bins_fine[1:]))\n",
    "t_binc_coarse = np.arccos(0.5 * (cos_bins_coarse[:-1] + cos_bins_coarse[1:]))\n",
    "\n",
    "migra_binc = np.sqrt(migra_bins[:-1] * migra_bins[1:])\n",
    "rad_binc = 0.5 * (rad_bins[1:] + rad_bins[:-1])"
   ]
  },
  {
   "cell_type": "code",
   "execution_count": 18,
   "id": "300a1052-d20b-4428-850a-8f5cc1d414c8",
   "metadata": {},
   "outputs": [],
   "source": [
    "# fill aeff histogram\n",
    "aeff = (\n",
    "    aeff_2D(\n",
    "        e_bins=e_bins_fine,\n",
    "        t_bins=t_bins_fine,\n",
    "        dataset=df_nu_all_q,\n",
    "        gamma=(-weight_factor),\n",
    "        nevents=f_nu_km3io.header.genvol.numberOfEvents\n",
    "        + f_nubar_km3io.header.genvol.numberOfEvents\n",
    "        # nevents = df_nu_all_q.shape[0]\n",
    "    )\n",
    "    * 2\n",
    ")  # two building blocks"
   ]
  },
  {
   "cell_type": "code",
   "execution_count": 19,
   "id": "b861d8d6-567e-4e19-b936-6697fed86463",
   "metadata": {},
   "outputs": [
    {
     "data": {
      "text/plain": [
       "40000000.0"
      ]
     },
     "execution_count": 19,
     "metadata": {},
     "output_type": "execute_result"
    }
   ],
   "source": [
    "f_nu_km3io.header.genvol.numberOfEvents + f_nubar_km3io.header.genvol.numberOfEvents"
   ]
  },
  {
   "cell_type": "code",
   "execution_count": 21,
   "id": "834f620f-890a-42dd-8781-46d191b87bc9",
   "metadata": {},
   "outputs": [
    {
     "data": {
      "text/plain": [
       "693511"
      ]
     },
     "execution_count": 21,
     "metadata": {},
     "output_type": "execute_result"
    }
   ],
   "source": [
    "df_nu_all_q.shape[0]"
   ]
  },
  {
   "cell_type": "code",
   "execution_count": 22,
   "id": "2b971fc2-9648-48ab-9e83-0744df7530fa",
   "metadata": {},
   "outputs": [
    {
     "data": {
      "text/plain": [
       "20000000.0"
      ]
     },
     "execution_count": 22,
     "metadata": {},
     "output_type": "execute_result"
    }
   ],
   "source": [
    "f_nu_km3io.header.genvol.numberOfEvents"
   ]
  },
  {
   "cell_type": "markdown",
   "id": "cc88734b-87d6-4ea4-b744-f3431b24f278",
   "metadata": {},
   "source": [
    "write Aeff to `.fits`"
   ]
  },
  {
   "cell_type": "code",
   "execution_count": 19,
   "id": "a42a10bf-4d8e-4d41-8065-7dd66c6ec5e8",
   "metadata": {},
   "outputs": [],
   "source": [
    "hdu = fits.PrimaryHDU()"
   ]
  },
  {
   "cell_type": "code",
   "execution_count": 20,
   "id": "ba6928c6-5d65-45e3-85a9-2b7523378bad",
   "metadata": {},
   "outputs": [],
   "source": [
    "# Write AEFF\n",
    "col1 = fits.Column(\n",
    "    name=\"ENERG_LO\",\n",
    "    format=\"{}E\".format(len(e_binc_fine)),\n",
    "    unit=\"GeV\",\n",
    "    array=[e_bins_fine[:-1]],\n",
    ")\n",
    "col2 = fits.Column(\n",
    "    name=\"ENERG_HI\",\n",
    "    format=\"{}E\".format(len(e_binc_fine)),\n",
    "    unit=\"GeV\",\n",
    "    array=[e_bins_fine[1:]],\n",
    ")\n",
    "col3 = fits.Column(\n",
    "    name=\"THETA_LO\",\n",
    "    format=\"{}E\".format(len(t_binc_fine)),\n",
    "    unit=\"rad\",\n",
    "    array=[t_bins_fine[:-1]],\n",
    ")\n",
    "col4 = fits.Column(\n",
    "    name=\"THETA_HI\",\n",
    "    format=\"{}E\".format(len(t_binc_fine)),\n",
    "    unit=\"rad\",\n",
    "    array=[t_bins_fine[1:]],\n",
    ")\n",
    "col5 = fits.Column(\n",
    "    name=\"EFFAREA\",\n",
    "    format=\"{}D\".format(len(e_binc_fine) * len(t_binc_fine)),\n",
    "    dim=\"({},{})\".format(len(e_binc_fine), len(t_binc_fine)),\n",
    "    unit=\"m2\",\n",
    "    array=[aeff.T],\n",
    ")\n",
    "cols = fits.ColDefs([col1, col2, col3, col4, col5])\n",
    "hdu2 = fits.BinTableHDU.from_columns(cols)\n",
    "hdu2.header[\"EXTNAME\"] = \"EFFECTIVE AREA\"\n",
    "hdu2.header[\n",
    "    \"HDUDOC\"\n",
    "] = \"https://github.com/open-gamma-ray-astro/gamma-astro-data-formats\"\n",
    "hdu2.header[\"HDUVERS\"] = \"0.2\"\n",
    "hdu2.header[\"HDUCLASS\"] = \"GADF\"\n",
    "hdu2.header[\"HDUCLAS1\"] = \"RESPONSE\"\n",
    "hdu2.header[\"HDUCLAS2\"] = \"EFF_AREA\"\n",
    "hdu2.header[\"HDUCLAS3\"] = \"FULL-ENCLOSURE\"\n",
    "hdu2.header[\"HDUCLAS4\"] = \"AEFF_2D\"\n",
    "aeff_fits = fits.HDUList([hdu, hdu2])\n",
    "aeff_fits.writeto(\"aeff_nevents.fits\", overwrite=True)"
   ]
  },
  {
   "cell_type": "code",
   "execution_count": 21,
   "id": "210e7e6d-2a8b-4e34-974e-f48249379497",
   "metadata": {},
   "outputs": [
    {
     "data": {
      "text/plain": [
       "km3io.offline.OfflineReader"
      ]
     },
     "execution_count": 21,
     "metadata": {},
     "output_type": "execute_result"
    }
   ],
   "source": [
    "type(f_nu_km3io)"
   ]
  },
  {
   "cell_type": "code",
   "execution_count": 22,
   "id": "a82241c5-15df-4df6-b69d-d4f0f9c01633",
   "metadata": {},
   "outputs": [
    {
     "ename": "TypeError",
     "evalue": "unsupported operand type(s) for +: 'OfflineReader' and 'OfflineReader'",
     "output_type": "error",
     "traceback": [
      "\u001b[1;31m---------------------------------------------------------------------------\u001b[0m",
      "\u001b[1;31mTypeError\u001b[0m                                 Traceback (most recent call last)",
      "\u001b[1;32m~\\AppData\\Local\\Temp\\ipykernel_9212\\748252374.py\u001b[0m in \u001b[0;36m<module>\u001b[1;34m\u001b[0m\n\u001b[1;32m----> 1\u001b[1;33m \u001b[0ma\u001b[0m \u001b[1;33m=\u001b[0m \u001b[0mf_nu_km3io\u001b[0m \u001b[1;33m+\u001b[0m \u001b[0mf_nubar_km3io\u001b[0m\u001b[1;33m\u001b[0m\u001b[0m\n\u001b[0m",
      "\u001b[1;31mTypeError\u001b[0m: unsupported operand type(s) for +: 'OfflineReader' and 'OfflineReader'"
     ]
    }
   ],
   "source": [
    "a = f_nu_km3io + f_nubar_km3io"
   ]
  },
  {
   "cell_type": "code",
   "execution_count": null,
   "id": "5dce0f8b-c33d-4d42-beb3-2a1ae833909e",
   "metadata": {},
   "outputs": [],
   "source": []
  }
 ],
 "metadata": {
  "kernelspec": {
   "display_name": "gammapy-0.17",
   "language": "python",
   "name": "gammapy-0.17"
  },
  "language_info": {
   "codemirror_mode": {
    "name": "ipython",
    "version": 3
   },
   "file_extension": ".py",
   "mimetype": "text/x-python",
   "name": "python",
   "nbconvert_exporter": "python",
   "pygments_lexer": "ipython3",
   "version": "3.7.0"
  }
 },
 "nbformat": 4,
 "nbformat_minor": 5
}
