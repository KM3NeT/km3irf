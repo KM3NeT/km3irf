{
 "cells": [
  {
   "cell_type": "code",
   "execution_count": 13,
   "id": "74990eba-0919-4c7a-99f1-d06882f4d710",
   "metadata": {},
   "outputs": [],
   "source": [
    "from astropy.coordinates import Angle\n",
    "import pandas as pd\n",
    "import numpy as np\n",
    "\n",
    "from km3irf import irf_tools "
   ]
  },
  {
   "cell_type": "code",
   "execution_count": 4,
   "id": "35e2de6e-19c2-4272-b78c-dfc358ace07a",
   "metadata": {},
   "outputs": [],
   "source": [
    "df = pd.read_csv(\"temp_dataset.csv\")"
   ]
  },
  {
   "cell_type": "code",
   "execution_count": 7,
   "id": "572ba81c-5895-4108-b42b-a68cea528490",
   "metadata": {},
   "outputs": [
    {
     "data": {
      "text/plain": [
       "200"
      ]
     },
     "execution_count": 7,
     "metadata": {},
     "output_type": "execute_result"
    }
   ],
   "source": [
    "len(df)"
   ]
  },
  {
   "cell_type": "code",
   "execution_count": 8,
   "id": "4c3760ee-8c29-4d55-bdc1-c21d27acb41b",
   "metadata": {},
   "outputs": [
    {
     "data": {
      "text/html": [
       "<div>\n",
       "<style scoped>\n",
       "    .dataframe tbody tr th:only-of-type {\n",
       "        vertical-align: middle;\n",
       "    }\n",
       "\n",
       "    .dataframe tbody tr th {\n",
       "        vertical-align: top;\n",
       "    }\n",
       "\n",
       "    .dataframe thead th {\n",
       "        text-align: right;\n",
       "    }\n",
       "</style>\n",
       "<table border=\"1\" class=\"dataframe\">\n",
       "  <thead>\n",
       "    <tr style=\"text-align: right;\">\n",
       "      <th></th>\n",
       "      <th>E</th>\n",
       "      <th>dir_x</th>\n",
       "      <th>dir_y</th>\n",
       "      <th>dir_z</th>\n",
       "      <th>E_mc</th>\n",
       "      <th>dir_x_mc</th>\n",
       "      <th>dir_y_mc</th>\n",
       "      <th>dir_z_mc</th>\n",
       "      <th>weight_w2</th>\n",
       "      <th>bdt0</th>\n",
       "      <th>bdt1</th>\n",
       "    </tr>\n",
       "  </thead>\n",
       "  <tbody>\n",
       "    <tr>\n",
       "      <th>0</th>\n",
       "      <td>349.621209</td>\n",
       "      <td>-0.670299</td>\n",
       "      <td>0.270036</td>\n",
       "      <td>0.691216</td>\n",
       "      <td>268.990</td>\n",
       "      <td>-0.670996</td>\n",
       "      <td>0.286741</td>\n",
       "      <td>0.683772</td>\n",
       "      <td>4.510000e+11</td>\n",
       "      <td>12.0</td>\n",
       "      <td>-2.000000</td>\n",
       "    </tr>\n",
       "    <tr>\n",
       "      <th>1</th>\n",
       "      <td>20.423436</td>\n",
       "      <td>0.327411</td>\n",
       "      <td>0.078130</td>\n",
       "      <td>-0.941646</td>\n",
       "      <td>178.710</td>\n",
       "      <td>0.327387</td>\n",
       "      <td>0.079789</td>\n",
       "      <td>-0.941515</td>\n",
       "      <td>1.182000e+11</td>\n",
       "      <td>1.0</td>\n",
       "      <td>-2.000000</td>\n",
       "    </tr>\n",
       "    <tr>\n",
       "      <th>2</th>\n",
       "      <td>184.966630</td>\n",
       "      <td>0.794867</td>\n",
       "      <td>0.354793</td>\n",
       "      <td>-0.492248</td>\n",
       "      <td>214.610</td>\n",
       "      <td>0.799260</td>\n",
       "      <td>0.353143</td>\n",
       "      <td>-0.486285</td>\n",
       "      <td>1.960000e+11</td>\n",
       "      <td>1.0</td>\n",
       "      <td>-2.000000</td>\n",
       "    </tr>\n",
       "    <tr>\n",
       "      <th>3</th>\n",
       "      <td>52.327015</td>\n",
       "      <td>0.455668</td>\n",
       "      <td>-0.632999</td>\n",
       "      <td>0.625843</td>\n",
       "      <td>291.347</td>\n",
       "      <td>0.432161</td>\n",
       "      <td>-0.625802</td>\n",
       "      <td>0.649314</td>\n",
       "      <td>5.622000e+11</td>\n",
       "      <td>11.0</td>\n",
       "      <td>0.998906</td>\n",
       "    </tr>\n",
       "    <tr>\n",
       "      <th>4</th>\n",
       "      <td>248.662668</td>\n",
       "      <td>0.553978</td>\n",
       "      <td>-0.036197</td>\n",
       "      <td>0.831744</td>\n",
       "      <td>299.805</td>\n",
       "      <td>0.835802</td>\n",
       "      <td>-0.326768</td>\n",
       "      <td>0.441200</td>\n",
       "      <td>5.829000e+11</td>\n",
       "      <td>10.0</td>\n",
       "      <td>-2.000000</td>\n",
       "    </tr>\n",
       "  </tbody>\n",
       "</table>\n",
       "</div>"
      ],
      "text/plain": [
       "            E     dir_x     dir_y     dir_z     E_mc  dir_x_mc  dir_y_mc  \\\n",
       "0  349.621209 -0.670299  0.270036  0.691216  268.990 -0.670996  0.286741   \n",
       "1   20.423436  0.327411  0.078130 -0.941646  178.710  0.327387  0.079789   \n",
       "2  184.966630  0.794867  0.354793 -0.492248  214.610  0.799260  0.353143   \n",
       "3   52.327015  0.455668 -0.632999  0.625843  291.347  0.432161 -0.625802   \n",
       "4  248.662668  0.553978 -0.036197  0.831744  299.805  0.835802 -0.326768   \n",
       "\n",
       "   dir_z_mc     weight_w2  bdt0      bdt1  \n",
       "0  0.683772  4.510000e+11  12.0 -2.000000  \n",
       "1 -0.941515  1.182000e+11   1.0 -2.000000  \n",
       "2 -0.486285  1.960000e+11   1.0 -2.000000  \n",
       "3  0.649314  5.622000e+11  11.0  0.998906  \n",
       "4  0.441200  5.829000e+11  10.0 -2.000000  "
      ]
     },
     "execution_count": 8,
     "metadata": {},
     "output_type": "execute_result"
    }
   ],
   "source": [
    "df.head()"
   ]
  },
  {
   "cell_type": "markdown",
   "id": "2a428cb9-ed40-4c5c-97bd-d6e7876b863a",
   "metadata": {},
   "source": [
    "Now it needs to fill all bins for PSF"
   ]
  },
  {
   "cell_type": "code",
   "execution_count": 17,
   "id": "93c5b933-0f55-48d9-a89a-e01ac6d1b06f",
   "metadata": {},
   "outputs": [],
   "source": [
    "# create bins\n",
    "cos_theta_binE = np.linspace(1, -1, 7)\n",
    "energy_binE = np.logspace(2, 8, 25)\n",
    "rad_binE = np.concatenate(\n",
    "    (\n",
    "        np.linspace(0, 1, 20, endpoint=False),\n",
    "        np.linspace(1, 5, 40, endpoint=False),\n",
    "        np.linspace(5, 30, 51),\n",
    "        [180.0],\n",
    "    )\n",
    ")\n",
    "\n",
    "theta_binE = np.arccos(cos_theta_binE)\n",
    "# Bin centers\n",
    "energy_binC = np.sqrt(energy_binE[:-1] * energy_binE[1:])\n",
    "theta_binC = np.arccos(0.5 * (cos_theta_binE[:-1] + cos_theta_binE[1:]))\n",
    "rad_binC = 0.5 * (rad_binE[1:] + rad_binE[:-1])\n",
    "\n",
    "weights_array = np.ones(len(df), dtype=np.float64)"
   ]
  },
  {
   "cell_type": "code",
   "execution_count": 56,
   "id": "43a75cf4-8337-4e1f-89d7-38ad38a2075b",
   "metadata": {},
   "outputs": [
    {
     "data": {
      "text/plain": [
       "111"
      ]
     },
     "execution_count": 56,
     "metadata": {},
     "output_type": "execute_result"
    }
   ],
   "source": [
    "len(rad_binC)"
   ]
  },
  {
   "cell_type": "code",
   "execution_count": 40,
   "id": "43063a69-3f6c-437a-8329-df226152fe4e",
   "metadata": {},
   "outputs": [
    {
     "ename": "AttributeError",
     "evalue": "'numpy.ndarray' object has no attribute 'axis'",
     "output_type": "error",
     "traceback": [
      "\u001b[1;31m---------------------------------------------------------------------------\u001b[0m",
      "\u001b[1;31mAttributeError\u001b[0m                            Traceback (most recent call last)",
      "Input \u001b[1;32mIn [40]\u001b[0m, in \u001b[0;36m<cell line: 2>\u001b[1;34m()\u001b[0m\n\u001b[0;32m      1\u001b[0m psf \u001b[38;5;241m=\u001b[39m irf_tools\u001b[38;5;241m.\u001b[39mpsf_3D(e_bins\u001b[38;5;241m=\u001b[39menergy_binE, t_bins\u001b[38;5;241m=\u001b[39mtheta_binE, r_bins\u001b[38;5;241m=\u001b[39mrad_binE, dataset\u001b[38;5;241m=\u001b[39mdf, weights\u001b[38;5;241m=\u001b[39mweights_array)\n\u001b[1;32m----> 2\u001b[0m \u001b[43mpsf\u001b[49m\u001b[38;5;241;43m.\u001b[39;49m\u001b[43maxis\u001b[49m\n",
      "\u001b[1;31mAttributeError\u001b[0m: 'numpy.ndarray' object has no attribute 'axis'"
     ]
    }
   ],
   "source": [
    "psf = irf_tools.psf_3D(e_bins=energy_binE, t_bins=theta_binE, r_bins=rad_binE, dataset=df, weights=weights_array)\n",
    "psf.sum()"
   ]
  },
  {
   "cell_type": "code",
   "execution_count": null,
   "id": "aff63a4a-1ef6-4769-96d1-950ef0610f1c",
   "metadata": {},
   "outputs": [],
   "source": [
    "# rad_max = Angle(np.linspace(0, self.rad[-1].value, 10 * len(self.rad)), \"rad\")\n",
    "\n",
    "\n"
   ]
  },
  {
   "cell_type": "code",
   "execution_count": 21,
   "id": "394f6941-e228-40d5-aa63-42f613b94053",
   "metadata": {},
   "outputs": [],
   "source": [
    "import astropy.units as u"
   ]
  },
  {
   "cell_type": "code",
   "execution_count": 23,
   "id": "ec9a8892-4e8a-4db6-9273-bb2d07d03fed",
   "metadata": {},
   "outputs": [],
   "source": [
    "rad_deg = rad_binE * u.deg"
   ]
  },
  {
   "cell_type": "code",
   "execution_count": 55,
   "id": "0fa12913-0968-4e9c-955f-e0b8166270a0",
   "metadata": {},
   "outputs": [
    {
     "data": {
      "text/plain": [
       "112"
      ]
     },
     "execution_count": 55,
     "metadata": {},
     "output_type": "execute_result"
    }
   ],
   "source": [
    "rad = rad_deg.to('rad')\n",
    "len(rad)"
   ]
  },
  {
   "cell_type": "code",
   "execution_count": 57,
   "id": "16521877-47e8-4041-866b-f985dced2bcc",
   "metadata": {},
   "outputs": [],
   "source": [
    "rad_C_deg = rad_binC * u.deg\n",
    "rad_C = rad_C_deg.to('rad')"
   ]
  },
  {
   "cell_type": "code",
   "execution_count": 39,
   "id": "7542b6bd-51e1-4725-8f3b-43b980dc7dfa",
   "metadata": {},
   "outputs": [
    {
     "data": {
      "text/plain": [
       "3.141592653589793"
      ]
     },
     "execution_count": 39,
     "metadata": {},
     "output_type": "execute_result"
    }
   ],
   "source": [
    "# increase number of rad bins in 10 times\n",
    "rad_max = Angle(np.linspace(0, rad[-1].value, 10 * len(rad)), unit=\"rad\")\n",
    "rad[-1].value"
   ]
  },
  {
   "cell_type": "code",
   "execution_count": 35,
   "id": "7e70bfa7-0afd-4599-8c67-0eda04a0d61e",
   "metadata": {},
   "outputs": [
    {
     "data": {
      "text/plain": [
       "array([ 1.  ,  1.09,  1.18,  1.27,  1.36,  1.45,  1.54,  1.63,  1.72,\n",
       "        1.81,  1.9 ,  1.99,  2.08,  2.17,  2.26,  2.35,  2.44,  2.53,\n",
       "        2.62,  2.71,  2.8 ,  2.89,  2.98,  3.07,  3.16,  3.25,  3.34,\n",
       "        3.43,  3.52,  3.61,  3.7 ,  3.79,  3.88,  3.97,  4.06,  4.15,\n",
       "        4.24,  4.33,  4.42,  4.51,  4.6 ,  4.69,  4.78,  4.87,  4.96,\n",
       "        5.05,  5.14,  5.23,  5.32,  5.41,  5.5 ,  5.59,  5.68,  5.77,\n",
       "        5.86,  5.95,  6.04,  6.13,  6.22,  6.31,  6.4 ,  6.49,  6.58,\n",
       "        6.67,  6.76,  6.85,  6.94,  7.03,  7.12,  7.21,  7.3 ,  7.39,\n",
       "        7.48,  7.57,  7.66,  7.75,  7.84,  7.93,  8.02,  8.11,  8.2 ,\n",
       "        8.29,  8.38,  8.47,  8.56,  8.65,  8.74,  8.83,  8.92,  9.01,\n",
       "        9.1 ,  9.19,  9.28,  9.37,  9.46,  9.55,  9.64,  9.73,  9.82,\n",
       "        9.91, 10.  ])"
      ]
     },
     "execution_count": 35,
     "metadata": {},
     "output_type": "execute_result"
    }
   ],
   "source": [
    "np.linspace(1, 10, 101)"
   ]
  },
  {
   "cell_type": "code",
   "execution_count": 41,
   "id": "0a700e18-8486-4b4a-a198-9e1686411cc2",
   "metadata": {},
   "outputs": [
    {
     "name": "stdout",
     "output_type": "stream",
     "text": [
      "Sum along axis 0: [12 15 18]\n",
      "Sum along axis 1: [ 6 15 24]\n"
     ]
    }
   ],
   "source": [
    "arr = np.array([[1, 2, 3],\n",
    "                [4, 5, 6],\n",
    "                [7, 8, 9]])\n",
    "\n",
    "# Sum along axis 0 (columns)\n",
    "sum_axis_0 = np.sum(arr, axis=0)\n",
    "\n",
    "# Sum along axis 1 (rows)\n",
    "sum_axis_1 = np.sum(arr, axis=1)\n",
    "\n",
    "print(\"Sum along axis 0:\", sum_axis_0)\n",
    "print(\"Sum along axis 1:\", sum_axis_1)"
   ]
  },
  {
   "cell_type": "code",
   "execution_count": 42,
   "id": "95eb6b9f-c4c2-47aa-a548-0f34fc8b1133",
   "metadata": {},
   "outputs": [],
   "source": [
    "psf_value = np.sum(psf, axis=(1,2))"
   ]
  },
  {
   "cell_type": "code",
   "execution_count": 49,
   "id": "7754ee3a-a2e4-400d-8d7b-d457e76ebfc7",
   "metadata": {},
   "outputs": [
    {
     "data": {
      "text/plain": [
       "astropy.coordinates.angles.Angle"
      ]
     },
     "execution_count": 49,
     "metadata": {},
     "output_type": "execute_result"
    }
   ],
   "source": [
    "rad1 = np.atleast_1d(rad_max)"
   ]
  },
  {
   "cell_type": "code",
   "execution_count": 50,
   "id": "6ed7ff39-23ed-463f-a5db-a8717868b3b5",
   "metadata": {},
   "outputs": [
    {
     "data": {
      "text/plain": [
       "array([ True,  True,  True, ...,  True,  True,  True])"
      ]
     },
     "execution_count": 50,
     "metadata": {},
     "output_type": "execute_result"
    }
   ],
   "source": [
    "rad1 == rad_max"
   ]
  },
  {
   "cell_type": "code",
   "execution_count": 52,
   "id": "a50fffaa-b3a4-49a8-82e3-21e36a6d3a86",
   "metadata": {},
   "outputs": [],
   "source": [
    "import scipy\n",
    "from km3irf.interpolation import ScaledRegularGridInterpolator"
   ]
  },
  {
   "cell_type": "code",
   "execution_count": 53,
   "id": "54b06284-51cd-4a63-9b9f-2b54d50527c0",
   "metadata": {},
   "outputs": [],
   "source": [
    "def interpolate(rad, psf_value):\n",
    "        points = (rad,)\n",
    "        return ScaledRegularGridInterpolator(\n",
    "            points=points, values=psf_value\n",
    "        )"
   ]
  },
  {
   "cell_type": "code",
   "execution_count": 63,
   "id": "9fce54f7-bd17-4268-9b74-40b0f186900b",
   "metadata": {},
   "outputs": [
    {
     "data": {
      "text/latex": [
       "$1 \\; \\mathrm{GeV}$"
      ],
      "text/plain": [
       "<Quantity 1. GeV>"
      ]
     },
     "execution_count": 63,
     "metadata": {},
     "output_type": "execute_result"
    }
   ],
   "source": [
    "1 * u.GeV"
   ]
  },
  {
   "cell_type": "code",
   "execution_count": null,
   "id": "4452d2bc-66bc-4803-888e-f28f58796ec1",
   "metadata": {},
   "outputs": [],
   "source": [
    "def evaluate(energy, rad, method=\"linear\"):\n",
    "        \"\"\"Evaluate the PSF at a given energy and offset\n",
    "        \"\"\"\n",
    "        energy = np.atleast_1d(u.Quantity(energy))[:, np.newaxis]\n",
    "        rad = np.atleast_1d(u.Quantity(rad))\n",
    "        return self.interpolate((energy, rad), clip=True, method=method)\n"
   ]
  },
  {
   "cell_type": "code",
   "execution_count": null,
   "id": "4d3b02cf-c94f-4f24-81d2-44483535a591",
   "metadata": {},
   "outputs": [],
   "source": [
    "def interpolate_containment(rad, energy):\n",
    "        # if rad[0] > 0:\n",
    "        #     rad = self.rad.insert(0, 0)\n",
    "        # else:\n",
    "        #     rad = self.rad\n",
    "\n",
    "        rad_drad = 2 * np.pi * rad * self.evaluate(energy=self.energy, rad=rad)\n",
    "        values = scipy.integrate.cumtrapz(\n",
    "            rad_drad.to_value(\"rad-1\"), rad.to_value(\"rad\"), initial=0, axis=1\n",
    "        )\n",
    "\n",
    "        points = (self.energy, rad)\n",
    "        return ScaledRegularGridInterpolator(points=points, values=values, fill_value=1)"
   ]
  },
  {
   "cell_type": "code",
   "execution_count": 68,
   "id": "ffe9dcc4-9e49-4cda-ac7a-afa37318497d",
   "metadata": {},
   "outputs": [
    {
     "name": "stdout",
     "output_type": "stream",
     "text": [
      "Interpolated Values:\n",
      "[[[0.         0.         0.         ... 0.         0.         0.        ]\n",
      "  [0.         0.         0.         ... 0.         0.         0.        ]\n",
      "  [0.         0.         0.         ... 0.         0.         0.        ]\n",
      "  ...\n",
      "  [0.         0.         0.         ... 0.         0.         0.        ]\n",
      "  [0.         0.         0.         ... 0.         0.         0.        ]\n",
      "  [0.         0.         0.         ... 0.         0.         0.        ]]\n",
      "\n",
      " [[0.10653901 0.09796943 0.08939985 ... 0.04728948 0.04324149 0.03919351]\n",
      "  [0.10477974 0.09635167 0.0879236  ... 0.04650859 0.04252745 0.03854631]\n",
      "  [0.10302047 0.09473391 0.08644734 ... 0.0457277  0.04181341 0.03789911]\n",
      "  ...\n",
      "  [0.0732619  0.067369   0.0614761  ... 0.03251876 0.02973516 0.02695155]\n",
      "  [0.06541259 0.06015105 0.05488952 ... 0.02903469 0.02654932 0.02406395]\n",
      "  [0.05756327 0.05293311 0.04830294 ... 0.02555061 0.02336348 0.02117634]]\n",
      "\n",
      " [[0.21307802 0.19593886 0.1787997  ... 0.09457895 0.08648299 0.07838702]\n",
      "  [0.20955948 0.19270334 0.17584719 ... 0.09301718 0.0850549  0.07709262]\n",
      "  [0.20604094 0.18946781 0.17289469 ... 0.09145541 0.08362682 0.07579823]\n",
      "  ...\n",
      "  [0.1465238  0.134738   0.1229522  ... 0.06503753 0.05947031 0.05390309]\n",
      "  [0.13082517 0.12030211 0.10977904 ... 0.05806938 0.05309863 0.04812789]\n",
      "  [0.11512654 0.10586622 0.09660589 ... 0.05110123 0.04672696 0.04235269]]\n",
      "\n",
      " ...\n",
      "\n",
      " [[0.6805619  0.62582017 0.57107844 ... 0.30208106 0.27622289 0.25036473]\n",
      "  [0.66932384 0.61548605 0.56164827 ... 0.29709282 0.27166165 0.24623048]\n",
      "  [0.65808577 0.60515194 0.5522181  ... 0.29210458 0.2671004  0.24209623]\n",
      "  ...\n",
      "  [0.46799062 0.43034729 0.39270396 ... 0.20772703 0.18994558 0.17216413]\n",
      "  [0.41784989 0.38423968 0.35062948 ... 0.18547106 0.16959472 0.15371838]\n",
      "  [0.36770916 0.33813208 0.308555   ... 0.16321509 0.14924387 0.13527264]]\n",
      "\n",
      " [[0.76101644 0.69980326 0.63859008 ... 0.33779242 0.30887736 0.2799623 ]\n",
      "  [0.74844984 0.68824747 0.6280451  ... 0.33221448 0.3037769  0.27533931]\n",
      "  [0.73588324 0.67669168 0.61750012 ... 0.32663654 0.29867643 0.27071632]\n",
      "  ...\n",
      "  [0.52331545 0.48122201 0.43912857 ... 0.23228406 0.21240053 0.192517  ]\n",
      "  [0.46724719 0.42966366 0.39208013 ... 0.20739704 0.18964384 0.17189064]\n",
      "  [0.41117894 0.37810532 0.3450317  ... 0.18251002 0.16688715 0.15126428]]\n",
      "\n",
      " [[0.84147098 0.77378636 0.70610173 ... 0.37350378 0.34153183 0.30955988]\n",
      "  [0.82757585 0.76100889 0.69444193 ... 0.36733615 0.33589214 0.30444814]\n",
      "  [0.81368071 0.74823142 0.68278213 ... 0.36116851 0.33025246 0.2993364 ]\n",
      "  ...\n",
      "  [0.57864028 0.53209673 0.48555317 ... 0.2568411  0.23485548 0.21286986]\n",
      "  [0.5166445  0.47508764 0.43353078 ... 0.22932303 0.20969296 0.19006289]\n",
      "  [0.45464871 0.41807855 0.38150839 ... 0.20180496 0.18453043 0.16725591]]]\n"
     ]
    }
   ],
   "source": [
    "# Generate example data\n",
    "x = np.linspace(0, 1, 3)\n",
    "y = np.linspace(0, 1, 4)\n",
    "z = np.linspace(0, 1, 5)\n",
    "\n",
    "# Create a grid of points\n",
    "xx, yy, zz = np.meshgrid(x, y, z, indexing='ij')\n",
    "\n",
    "# Generate values for the grid points\n",
    "values = np.sin(xx) * np.cos(yy) * np.exp(-zz)\n",
    "\n",
    "# Create an instance of ScaledRegularGridInterpolator\n",
    "interp = ScaledRegularGridInterpolator(\n",
    "    points=(x, y, z),\n",
    "    values=values,\n",
    "    points_scale=['lin', 'lin', 'lin'],  # Linear scaling for x, y, z\n",
    "    values_scale='lin'  # Linear scaling for values\n",
    ")\n",
    "\n",
    "# Generate new points for interpolation\n",
    "x_new = np.linspace(0, 1, 10)\n",
    "y_new = np.linspace(0, 1, 11)\n",
    "z_new = np.linspace(0, 1, 12)\n",
    "\n",
    "# Create a grid of new points\n",
    "xx_new, yy_new, zz_new = np.meshgrid(x_new, y_new, z_new, indexing='ij')\n",
    "\n",
    "# Interpolate the values at the new points\n",
    "interpolated_values = interp((xx_new, yy_new, zz_new))\n",
    "\n",
    "# Print the interpolated values for demonstration\n",
    "print(\"Interpolated Values:\")\n",
    "print(interpolated_values)"
   ]
  },
  {
   "cell_type": "code",
   "execution_count": 69,
   "id": "14ed5314-1167-409b-92e1-d7dafd77e1ee",
   "metadata": {},
   "outputs": [
    {
     "data": {
      "text/plain": [
       "array([[[0. , 0. , 0. , 0. , 0. ],\n",
       "        [0. , 0. , 0. , 0. , 0. ],\n",
       "        [0. , 0. , 0. , 0. , 0. ],\n",
       "        [0. , 0. , 0. , 0. , 0. ]],\n",
       "\n",
       "       [[0.5, 0.5, 0.5, 0.5, 0.5],\n",
       "        [0.5, 0.5, 0.5, 0.5, 0.5],\n",
       "        [0.5, 0.5, 0.5, 0.5, 0.5],\n",
       "        [0.5, 0.5, 0.5, 0.5, 0.5]],\n",
       "\n",
       "       [[1. , 1. , 1. , 1. , 1. ],\n",
       "        [1. , 1. , 1. , 1. , 1. ],\n",
       "        [1. , 1. , 1. , 1. , 1. ],\n",
       "        [1. , 1. , 1. , 1. , 1. ]]])"
      ]
     },
     "execution_count": 69,
     "metadata": {},
     "output_type": "execute_result"
    }
   ],
   "source": [
    "xx\n"
   ]
  }
 ],
 "metadata": {
  "kernelspec": {
   "display_name": "gammapy-1.00",
   "language": "python",
   "name": "gammapy-1.00"
  },
  "language_info": {
   "codemirror_mode": {
    "name": "ipython",
    "version": 3
   },
   "file_extension": ".py",
   "mimetype": "text/x-python",
   "name": "python",
   "nbconvert_exporter": "python",
   "pygments_lexer": "ipython3",
   "version": "3.9.15"
  }
 },
 "nbformat": 4,
 "nbformat_minor": 5
}
